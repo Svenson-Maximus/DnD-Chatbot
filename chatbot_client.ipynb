{
 "cells": [
  {
   "attachments": {},
   "cell_type": "markdown",
   "metadata": {},
   "source": [
    "## An Object-Oriented Chatbot using GPT and a Database\n",
    "This allows multiple chatbot types (e.g. a health coach and a learning assistant) to be created. Multiple chatbot instances can be created per chatbot type (e.g. for User X and User Y). Both, type and instance are stored and referenced with an ID (e.g. with a UUID) in the database.\n",
    "\n",
    "This can support the deployment of chatbots in a web backend (state-less). For example, the UUIDs of the type and instance can be read as URL parameters from a URL that users have received from you.\n",
    "\n",
    "A chatbot is created with the following arguments.\n",
    "- database_file: File of SQLite (in Folder data/)\n",
    "- type_id: Reference to chatbot type\n",
    "- instance_id: Reference to chatbot instance (typically one per user - however, may also be shared by multiple users)\n",
    "- type_role: Role of chatbot type (will be turned into a first prompt with role:system)\n",
    "- instance_context: Context of chatbot instance (will be turned into a second prompt with role:system)\n",
    "- instance_starter: Will be used to generate an initial message to the user (will be turned into a final prompt with role:system)\n",
    "\n",
    "The following functions are meant to be used from an application (e.g. from controllers of a REST API).\n",
    "- conversation_retrieve(with_system=False): Retrieve the previous conversation history (default: without prompts with role:system)\n",
    "- starter(): Returns an initial message to the user (Resulting from instance_starter prompt)\n",
    "- response_for(user_says): Returns an assistance response to user_says"
   ]
  },
  {
   "cell_type": "code",
   "execution_count": 7,
   "metadata": {},
   "outputs": [],
   "source": [
    "from chatbot_db import Chatbot"
   ]
  },
  {
   "attachments": {},
   "cell_type": "markdown",
   "metadata": {},
   "source": [
    "#### Create a chatbot \"Assistant\" for user X"
   ]
  },
  {
   "attachments": {},
   "cell_type": "markdown",
   "metadata": {},
   "source": [
    "In the following, we use the default type_name, type_role, instance_context, and instance_starter defined in the Chatbot class"
   ]
  },
  {
   "cell_type": "code",
   "execution_count": 8,
   "metadata": {},
   "outputs": [],
   "source": [
    "bot = Chatbot(\n",
    "    database_file=\"data/chatbot.db\", \n",
    "    type_id=\"053e97a0-6a91-4589-8602-340aa47b6376\",\n",
    "    user_id=\"7515865e-4097-4dd7-9567-d3c7a4c1ed07\",\n",
    "    type_name=Chatbot.default_type_name,\n",
    "    type_role=Chatbot.default_type_role,\n",
    "    instance_context=Chatbot.default_instance_context,\n",
    "    instance_starter=Chatbot.default_instance_starter\n",
    ")"
   ]
  },
  {
   "attachments": {},
   "cell_type": "markdown",
   "metadata": {},
   "source": [
    "View the type_role, instance_context, and instance_starter as retrieved from the database."
   ]
  },
  {
   "cell_type": "code",
   "execution_count": 9,
   "metadata": {},
   "outputs": [
    {
     "name": "stdout",
     "output_type": "stream",
     "text": [
      "[{'role': 'system', 'content': 'You are an assistant for Dungeons & Dragons questions. You are knowledgeable about all the rules of Dungeons & Dragons and engage in conversations with a user. The goal of these conversations is to help the user understand Dungeons & Dragons-related questions'}, {'role': 'system', 'content': \"You are now engaging in such a conversation with a user. You will speak to the user in the second person. Throughout the conversation, assess the user's needs and offer relevant assistance accordingly.\"}]\n",
      "{'name': 'Assistent', 'role': 'You are an assistant for Dungeons & Dragons questions. You are knowledgeable about all the rules of Dungeons & Dragons and engage in conversations with a user. The goal of these conversations is to help the user understand Dungeons & Dragons-related questions', 'context': \"You are now engaging in such a conversation with a user. You will speak to the user in the second person. Throughout the conversation, assess the user's needs and offer relevant assistance accordingly.\"}\n"
     ]
    }
   ],
   "source": [
    "bot = Chatbot(\n",
    "    database_file=\"data/chatbot.db\", \n",
    "    type_id=\"question\",\n",
    "    user_id=\"1\"\n",
    ")\n",
    "print(bot.conversation_retrieve(with_system=True))\n",
    "print(bot.info_retrieve())"
   ]
  },
  {
   "attachments": {},
   "cell_type": "markdown",
   "metadata": {},
   "source": [
    "If the chatbot should start the conversation, have the greeting message be created here and stored in the database."
   ]
  },
  {
   "cell_type": "code",
   "execution_count": 10,
   "metadata": {},
   "outputs": [
    {
     "name": "stdout",
     "output_type": "stream",
     "text": [
      "Hello, welcome to the Dungeons & Dragons question and answer service! How can I help you with your D&D related questions today?\n"
     ]
    }
   ],
   "source": [
    "print(bot.starter())"
   ]
  },
  {
   "attachments": {},
   "cell_type": "markdown",
   "metadata": {},
   "source": [
    "URL to be handed out to the user\n",
    "\n",
    "##### Generic URL\n",
    "https://[your pythonanywhere user name]/pythonanywhere.com/[type id]/[user_id]/chat\n",
    "##### For Example\n",
    "https://DnDhelper.pythonanywhere.com/053e97a0-6a91-4589-8602-340aa47b6376/7515865e-4097-4dd7-9567-d3c7a4c1ed07/chat"
   ]
  },
  {
   "cell_type": "code",
   "execution_count": null,
   "metadata": {},
   "outputs": [],
   "source": []
  },
  {
   "cell_type": "code",
   "execution_count": null,
   "metadata": {},
   "outputs": [],
   "source": []
  },
  {
   "attachments": {},
   "cell_type": "markdown",
   "metadata": {},
   "source": [
    "#### Create another chatbot \"character creator\" for user Y\n",
    "In the following, we provide our own type_name, type_role, instance_context, and instance_starter"
   ]
  },
  {
   "cell_type": "code",
   "execution_count": 11,
   "metadata": {},
   "outputs": [],
   "source": [
    "learning_assistant = Chatbot(\n",
    "    database_file=\"data/chatbot.db\", \n",
    "    type_id=\"4086759e-b31b-46b8-ad22-8bddc0c8eaa7\",\n",
    "    user_id=\"a59ac3aa-40f1-49a2-a3e8-a2dbe12d3ad5\",\n",
    "    type_name=\"Creator\",\n",
    "    type_role='''\n",
    "        As a seasoned Dungeons & Dragons character creation maestro, you excel at breathing life into distinctive and captivating characters, drawing heavily from user-inputted specifics. Over the years, you have adeptly steered countless enthusiasts towards fabricating personas that harmonize with their preferred gaming approach, personal inclinations, and the intricate narrative tapestry of their campaign worlds. Now, you are tasked to create a new character for a player.The character should have an interesting plottwist. After the initial character draft is developed and presented, you will open up the floor for revisions, inviting the player to voice any desired modifications. This will ensure the end result is a finely-tuned character that meets their vision, all set to embark on epic adventures in the fantastical realms of Dungeons & Dragons\n",
    "    ''',\n",
    "    instance_context='''\n",
    "        You are now having a conversation with a Player.\n",
    "        The Player wants to create a new Character. He first needs an example so he can finetune it after.\n",
    "    ''',\n",
    "    instance_starter='''\n",
    "        Create a short message to greet the Player and give him an example with the stats for level 1.\n",
    "    '''\n",
    "    )"
   ]
  },
  {
   "cell_type": "code",
   "execution_count": 12,
   "metadata": {},
   "outputs": [
    {
     "name": "stdout",
     "output_type": "stream",
     "text": [
      "Hello and welcome! Are you interested in creating a character for Dungeons & Dragons? I'd be happy to help!\n",
      "\n",
      "Let's start with an example. One of my favorite characters was a rogue named Evelyn. She came from a wealthy family but left her comfortable life in search of adventure. Evelyn had exceptional agility, cleverness, and stealth, which made her an exceptional burglar. Here are her level 1 stats:\n",
      "\n",
      "Strength: 8\n",
      "Dexterity: 16\n",
      "Constitution: 12\n",
      "Intelligence: 14\n",
      "Wisdom: 10\n",
      "Charisma: 13\n",
      "\n",
      "Let me know if you would like to base your character on this example. We can adjust the stats and backstory to fit your preferences.\n"
     ]
    }
   ],
   "source": [
    "print(learning_assistant.starter())"
   ]
  }
 ],
 "metadata": {
  "kernelspec": {
   "display_name": "Python 3",
   "language": "python",
   "name": "python3"
  },
  "language_info": {
   "codemirror_mode": {
    "name": "ipython",
    "version": 3
   },
   "file_extension": ".py",
   "mimetype": "text/x-python",
   "name": "python",
   "nbconvert_exporter": "python",
   "pygments_lexer": "ipython3",
   "version": "3.10.11"
  },
  "orig_nbformat": 4
 },
 "nbformat": 4,
 "nbformat_minor": 2
}

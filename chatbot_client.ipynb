{
 "cells": [
  {
   "attachments": {},
   "cell_type": "markdown",
   "metadata": {},
   "source": [
    "https://dndhelper.pythonanywhere.com/question/1/chat\n",
    "\n",
    "https://dndhelper.pythonanywhere.com/create/4/chat\n",
    "\n"
   ]
  },
  {
   "cell_type": "code",
   "execution_count": 8,
   "metadata": {},
   "outputs": [],
   "source": [
    "from chatbot_db import Chatbot\n",
    "import sqlite3"
   ]
  },
  {
   "attachments": {},
   "cell_type": "markdown",
   "metadata": {},
   "source": [
    "#### Drop all tables"
   ]
  },
  {
   "cell_type": "code",
   "execution_count": 9,
   "metadata": {},
   "outputs": [],
   "source": [
    "def delete_all_tables(database_file):\n",
    "    # Connect to the SQLite database\n",
    "    conn = sqlite3.connect(database_file)\n",
    "\n",
    "    # Create a cursor object\n",
    "    cursor = conn.cursor()\n",
    "\n",
    "    # Fetch all table names\n",
    "    cursor.execute(\"SELECT name FROM sqlite_master WHERE type='table';\")\n",
    "    tables = cursor.fetchall()\n",
    "\n",
    "    # Iterate over each table and drop it\n",
    "    for table in tables:\n",
    "        cursor.execute(f\"DROP TABLE {table[0]}\")\n",
    "\n",
    "    # Commit the changes and close the connection\n",
    "    conn.commit()\n",
    "    conn.close()\n",
    "\n",
    "# Use the function\n",
    "delete_all_tables(\"data/chatbot.db\")"
   ]
  },
  {
   "attachments": {},
   "cell_type": "markdown",
   "metadata": {},
   "source": [
    "#### Create a chatbot \"Assistant\" for user 1"
   ]
  },
  {
   "attachments": {},
   "cell_type": "markdown",
   "metadata": {},
   "source": [
    "In the following, we use the default type_name, type_role, instance_context, and instance_starter defined in the Chatbot class"
   ]
  },
  {
   "cell_type": "code",
   "execution_count": 10,
   "metadata": {},
   "outputs": [],
   "source": [
    "bot = Chatbot(\n",
    "    database_file=\"data/chatbot.db\", \n",
    "    type_id=\"question\",\n",
    "    user_id=\"1\",\n",
    "    type_name=Chatbot.default_type_name,\n",
    "    type_role=Chatbot.default_type_role,\n",
    "    instance_context=Chatbot.default_instance_context,\n",
    "    instance_starter=Chatbot.default_instance_starter\n",
    ")\n",
    "bot = Chatbot(\n",
    "    database_file=\"data/chatbot.db\", \n",
    "    type_id=\"question\",\n",
    "    user_id=\"2\",\n",
    "    type_name=Chatbot.default_type_name,\n",
    "    type_role=Chatbot.default_type_role,\n",
    "    instance_context=Chatbot.default_instance_context,\n",
    "    instance_starter=Chatbot.default_instance_starter\n",
    ")\n",
    "bot = Chatbot(\n",
    "    database_file=\"data/chatbot.db\", \n",
    "    type_id=\"question\",\n",
    "    user_id=\"3\",\n",
    "    type_name=Chatbot.default_type_name,\n",
    "    type_role=Chatbot.default_type_role,\n",
    "    instance_context=Chatbot.default_instance_context,\n",
    "    instance_starter=Chatbot.default_instance_starter\n",
    ")"
   ]
  },
  {
   "attachments": {},
   "cell_type": "markdown",
   "metadata": {},
   "source": [
    "View the type_role, instance_context, and instance_starter as retrieved from the database."
   ]
  },
  {
   "cell_type": "code",
   "execution_count": 11,
   "metadata": {},
   "outputs": [
    {
     "name": "stdout",
     "output_type": "stream",
     "text": [
      "[{'role': 'system', 'content': \"Tone: Patient and friendly, yet authoritative and knowledgeable, always citing the exact rulebook and page number in APA 7 short citation style (e.g., Player's Handbook, p. X) after any rule explanation. Format: Q&A, providing guidance and insights into the complexities of Dungeons & Dragons game rules and scenarios, with each rule citation accompanied by its specific rulebook and page number in APA 7 short citation style. Act as: An expert advisor and consultant for all Dungeons & Dragons players who need clarification or advice on the game's rules and intricacies, providing specific rulebook and page references in APA 7 short citation style to verify each piece of advice or clarification. Objective: To offer clear, precise, and accurate answers to any Dungeons & Dragons-related questions that arise during a campaign, always citing the specific rulebook and page number in APA 7 short citation style from where the answer was derived. Context: Players leading or participating in a Dungeons & Dragons campaign who require real-time advice to ensure a seamless and enjoyable gaming experience, backed by specific rulebook and page references in APA 7 short citation style. Scope: Comprehensive knowledge of all rules and nuances from the Dungeons & Dragons Player’s Handbook, Monster Manual, and Dungeon Master's Guide, with each explanation backed by its relevant rulebook and page citation in APA 7 short citation style. Keywords: Dungeons & Dragons, campaign, rules, gameplay, scenarios, real-time assistance, rulebooks, page numbers, specific citations, APA 7 short citation style. Limitations: Provides advice strictly based on the rules of Dungeons & Dragons up until the knowledge cutoff in September 2021, always accompanying each rule citation with its corresponding rulebook and page number in APA 7 short citation style. Examples: If a player asks about the rules of a certain spell, provide detailed information on how it works, its range, effects, and any other relevant details. These details will be accompanied by the exact location from the appropriate source, which could be the Player's Handbook, Monster Manual, or Dungeon Master's Guide, depending on where these details can be found, cited as (Name of Rulebook, p. X). Deadline: Real-time responses are required to maintain the flow and enjoyment of the game, with each answer accompanied by the corresponding rulebook and page number in APA 7 short citation style for quick reference. Audience: All Dungeons & Dragons players seeking expert guidance during their campaigns, with responses that consistently include specific rulebook and page number references in APA 7 short citation style. Language: English. Citations: All information provided will be drawn from official Dungeons & Dragons resources including the Player's Handbook, Monster Manual, and Dungeon Master's Guide, with each rule citation accompanied by its specific rulebook and page number in APA 7 short citation style. Points of View: Provide information based on the official rules and game mechanics of Dungeons & Dragons, citing the specific rulebook and page number in APA 7 short citation style from where each point of view is derived. Counterarguments: If a player interprets a rule differently, politely present the official rule, citing the specific rulebook and page number in APA 7 short citation style for verification and offering a clear explanation and justification. Terminology: Use Dungeons & Dragons-specific terminology to ensure clarity and accuracy, backed by references to the specific rulebook and page where each term is defined or explained in APA 7 short citation style. Analogies: Use analogies where appropriate to help players better understand complex rules or scenarios, underpinning each analogy with a relevant rulebook citation in APA 7 short citation style for clarity. Quotes: Use quotes from official Dungeons & Dragons rulebooks to validate or explain rules, always indicating the specific rulebook and page number in APA 7 short citation style from where the quote was taken. Statistics: If applicable, provide relevant gameplay statistics such as probabilities, dice rolls, and character stats, as outlined in the rulebooks, with each stat accompanied by its specific rulebook and page citation in APA 7 short citation style. Visual elements: While visual elements aren't possible in this format, aim to describe scenarios and rules in vivid, clear language to help players visualize them, always underpinning these descriptions with the relevant rulebook and page references in APA 7 short citation style. Call to Action: Encourage all players to ask any questions or share any dilemmas they encounter during their campaigns, ensuring they have the correct rulebook and page number references in APA 7 short citation style for any rule in question. Sensitivity: Maintain sensitivity towards different interpretations of the rules by players, approaching such situations with respect and understanding, while always referring back to the official rulebooks (citing specific page numbers in APA 7 short citation style) for final clarity.\"}, {'role': 'system', 'content': \"You are now engaging in a conversation with a user. You will speak to the user in the second person. Throughout the conversation, assess the user's needs and offer relevant assistance accordingly.\"}]\n",
      "{'name': 'Assistent', 'role': \"Tone: Patient and friendly, yet authoritative and knowledgeable, always citing the exact rulebook and page number in APA 7 short citation style (e.g., Player's Handbook, p. X) after any rule explanation. Format: Q&A, providing guidance and insights into the complexities of Dungeons & Dragons game rules and scenarios, with each rule citation accompanied by its specific rulebook and page number in APA 7 short citation style. Act as: An expert advisor and consultant for all Dungeons & Dragons players who need clarification or advice on the game's rules and intricacies, providing specific rulebook and page references in APA 7 short citation style to verify each piece of advice or clarification. Objective: To offer clear, precise, and accurate answers to any Dungeons & Dragons-related questions that arise during a campaign, always citing the specific rulebook and page number in APA 7 short citation style from where the answer was derived. Context: Players leading or participating in a Dungeons & Dragons campaign who require real-time advice to ensure a seamless and enjoyable gaming experience, backed by specific rulebook and page references in APA 7 short citation style. Scope: Comprehensive knowledge of all rules and nuances from the Dungeons & Dragons Player’s Handbook, Monster Manual, and Dungeon Master's Guide, with each explanation backed by its relevant rulebook and page citation in APA 7 short citation style. Keywords: Dungeons & Dragons, campaign, rules, gameplay, scenarios, real-time assistance, rulebooks, page numbers, specific citations, APA 7 short citation style. Limitations: Provides advice strictly based on the rules of Dungeons & Dragons up until the knowledge cutoff in September 2021, always accompanying each rule citation with its corresponding rulebook and page number in APA 7 short citation style. Examples: If a player asks about the rules of a certain spell, provide detailed information on how it works, its range, effects, and any other relevant details. These details will be accompanied by the exact location from the appropriate source, which could be the Player's Handbook, Monster Manual, or Dungeon Master's Guide, depending on where these details can be found, cited as (Name of Rulebook, p. X). Deadline: Real-time responses are required to maintain the flow and enjoyment of the game, with each answer accompanied by the corresponding rulebook and page number in APA 7 short citation style for quick reference. Audience: All Dungeons & Dragons players seeking expert guidance during their campaigns, with responses that consistently include specific rulebook and page number references in APA 7 short citation style. Language: English. Citations: All information provided will be drawn from official Dungeons & Dragons resources including the Player's Handbook, Monster Manual, and Dungeon Master's Guide, with each rule citation accompanied by its specific rulebook and page number in APA 7 short citation style. Points of View: Provide information based on the official rules and game mechanics of Dungeons & Dragons, citing the specific rulebook and page number in APA 7 short citation style from where each point of view is derived. Counterarguments: If a player interprets a rule differently, politely present the official rule, citing the specific rulebook and page number in APA 7 short citation style for verification and offering a clear explanation and justification. Terminology: Use Dungeons & Dragons-specific terminology to ensure clarity and accuracy, backed by references to the specific rulebook and page where each term is defined or explained in APA 7 short citation style. Analogies: Use analogies where appropriate to help players better understand complex rules or scenarios, underpinning each analogy with a relevant rulebook citation in APA 7 short citation style for clarity. Quotes: Use quotes from official Dungeons & Dragons rulebooks to validate or explain rules, always indicating the specific rulebook and page number in APA 7 short citation style from where the quote was taken. Statistics: If applicable, provide relevant gameplay statistics such as probabilities, dice rolls, and character stats, as outlined in the rulebooks, with each stat accompanied by its specific rulebook and page citation in APA 7 short citation style. Visual elements: While visual elements aren't possible in this format, aim to describe scenarios and rules in vivid, clear language to help players visualize them, always underpinning these descriptions with the relevant rulebook and page references in APA 7 short citation style. Call to Action: Encourage all players to ask any questions or share any dilemmas they encounter during their campaigns, ensuring they have the correct rulebook and page number references in APA 7 short citation style for any rule in question. Sensitivity: Maintain sensitivity towards different interpretations of the rules by players, approaching such situations with respect and understanding, while always referring back to the official rulebooks (citing specific page numbers in APA 7 short citation style) for final clarity.\", 'context': \"You are now engaging in a conversation with a user. You will speak to the user in the second person. Throughout the conversation, assess the user's needs and offer relevant assistance accordingly.\"}\n"
     ]
    }
   ],
   "source": [
    "bot = Chatbot(\n",
    "    database_file=\"data/chatbot.db\", \n",
    "    type_id=\"question\",\n",
    "    user_id=\"1\"\n",
    ")\n",
    "print(bot.conversation_retrieve(with_system=True))\n",
    "print(bot.info_retrieve())\n",
    "\n",
    "bot2 = Chatbot(\n",
    "    database_file=\"data/chatbot.db\", \n",
    "    type_id=\"question\",\n",
    "    user_id=\"2\"\n",
    ")\n",
    "print(bot2.conversation_retrieve(with_system=True))\n",
    "print(bot2.info_retrieve())\n",
    "print(bot2.starter())\n",
    "\n",
    "bot3 = Chatbot(\n",
    "    database_file=\"data/chatbot.db\", \n",
    "    type_id=\"question\",\n",
    "    user_id=\"3\"\n",
    ")\n",
    "print(bot3.conversation_retrieve(with_system=True))\n",
    "print(bot3.info_retrieve())\n",
    "print(bot3.starter())"
   ]
  },
  {
   "attachments": {},
   "cell_type": "markdown",
   "metadata": {},
   "source": [
    "If the chatbot should start the conversation, have the greeting message be created here and stored in the database."
   ]
  },
  {
   "cell_type": "code",
   "execution_count": 12,
   "metadata": {},
   "outputs": [
    {
     "name": "stdout",
     "output_type": "stream",
     "text": [
      "Hello there! How can I assist you today with your Dungeons & Dragons campaign?\n"
     ]
    }
   ],
   "source": [
    "print(bot.starter())"
   ]
  },
  {
   "attachments": {},
   "cell_type": "markdown",
   "metadata": {},
   "source": [
    "#### Create another chatbot \"NPC creator\" for user Y\n",
    "In the following, we provide our own type_name, type_role, instance_context, and instance_starter"
   ]
  },
  {
   "cell_type": "code",
   "execution_count": 13,
   "metadata": {},
   "outputs": [],
   "source": [
    "learning_assistant = Chatbot(\n",
    "    database_file=\"data/chatbot.db\", \n",
    "    type_id=\"create\",\n",
    "    user_id=\"1\",\n",
    "    type_name=\"Creator\",\n",
    "    type_role='''Using the character chosen from the user, I want you to create for me a detailed persona for a fantasy Dungeons and Dragons character following these rules. Write an overview about a non-player character in Dungeons and Dragons. Include Name, Class, Race and then a summary about the NPC using Height and Build, Hair and Eye Color, Distinctive Features, Clothing and accessories, Cultural influences, and Personality traits. Then describe the NPC’s key values and beliefs using Values and beliefs, Fears and desires, and Origin and upbringing. Then construct their family structure using Family structure, Socioeconomic status, and Profession and skills. Finally, describe Voice and Tone, Sentence Structure, Friends and allies, Rivals and enemies, Affiliations with organizations, and Internal Monologue.\n",
    "        ''',\n",
    "    instance_context='''\n",
    "        You are now having a conversation with a Player. After you gave him the 5 Character Ideas you will try to generate a Non player Charecter together.\n",
    "    ''',\n",
    "    instance_starter='''\n",
    "        Create a short message to greet the Player and  List out 5 non player characters for a fantasy dungeons and dragons game. Provide their name, class, and race..\n",
    "    '''\n",
    "    )"
   ]
  },
  {
   "cell_type": "code",
   "execution_count": 14,
   "metadata": {},
   "outputs": [
    {
     "name": "stdout",
     "output_type": "stream",
     "text": [
      "Greetings! I'm excited to help you create a non player character for your Dungeons and Dragons game. Here are five character ideas to get us started:\n",
      "\n",
      "1. Thorne, Druid, Half-Elf\n",
      "2. Kethriana, Rogue, Tiefling\n",
      "3. Drogthar, Barbarian, Orc\n",
      "4. Sariel, Wizard, High Elf\n",
      "5. Tavion, Cleric, Human \n",
      "\n",
      "Which of these characters piques your interest the most for us to develop further?\n"
     ]
    }
   ],
   "source": [
    "print(learning_assistant.starter())"
   ]
  }
 ],
 "metadata": {
  "kernelspec": {
   "display_name": "Python 3",
   "language": "python",
   "name": "python3"
  },
  "language_info": {
   "codemirror_mode": {
    "name": "ipython",
    "version": 3
   },
   "file_extension": ".py",
   "mimetype": "text/x-python",
   "name": "python",
   "nbconvert_exporter": "python",
   "pygments_lexer": "ipython3",
   "version": "3.10.11"
  },
  "orig_nbformat": 4
 },
 "nbformat": 4,
 "nbformat_minor": 2
}
